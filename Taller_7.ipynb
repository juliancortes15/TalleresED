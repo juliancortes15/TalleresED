{
  "nbformat": 4,
  "nbformat_minor": 0,
  "metadata": {
    "colab": {
      "provenance": []
    },
    "kernelspec": {
      "name": "python3",
      "display_name": "Python 3"
    },
    "language_info": {
      "name": "python"
    }
  },
  "cells": [
    {
      "cell_type": "code",
      "source": [
        "  class Nodo:\n",
        "    def __init__(self, valor):\n",
        "        self.valor = valor\n",
        "        self.izquierdo = None\n",
        "        self.derecho = None\n",
        "\n",
        "raiz = Nodo('A')\n",
        "raiz.izquierdo = Nodo('B')\n",
        "raiz.derecho = Nodo('C')\n",
        "raiz.izquierdo.izquierdo = Nodo('D')\n",
        "raiz.izquierdo.derecho = Nodo('E')\n",
        "raiz.derecho.derecho = Nodo('F')"
      ],
      "metadata": {
        "id": "vPPZBc-yWTdK"
      },
      "execution_count": null,
      "outputs": []
    },
    {
      "cell_type": "markdown",
      "source": [
        "Recorridos en el árbol\n",
        "\n",
        "Recorrido Inorden"
      ],
      "metadata": {
        "id": "O1j3cZALW1ER"
      }
    },
    {
      "cell_type": "code",
      "execution_count": null,
      "metadata": {
        "id": "-LmTtDr2WO2s"
      },
      "outputs": [],
      "source": [
        "def inorden(nodo):\n",
        "    if nodo is not None:\n",
        "        inorden(nodo.izquierdo)\n",
        "        print(nodo.valor, end=\" \")\n",
        "        inorden(nodo.derecho)\n"
      ]
    },
    {
      "cell_type": "markdown",
      "source": [
        "Recorrido Preorden"
      ],
      "metadata": {
        "id": "oPucOz-MW_ue"
      }
    },
    {
      "cell_type": "code",
      "source": [
        "def preorden(nodo):\n",
        "    if nodo is not None:\n",
        "        print(nodo.valor, end=\" \")\n",
        "        preorden(nodo.izquierdo)\n",
        "        preorden(nodo.derecho)"
      ],
      "metadata": {
        "id": "7-QIesNvXA1S"
      },
      "execution_count": null,
      "outputs": []
    },
    {
      "cell_type": "markdown",
      "source": [
        "Recorrido postorden"
      ],
      "metadata": {
        "id": "-epnvDOcXFkM"
      }
    },
    {
      "cell_type": "code",
      "source": [
        "def postorden(nodo):\n",
        "    if nodo is not None:\n",
        "        postorden(nodo.izquierdo)\n",
        "        postorden(nodo.derecho)\n",
        "        print(nodo.valor, end=\" \")\n"
      ],
      "metadata": {
        "id": "DnahbXBAXSYX"
      },
      "execution_count": null,
      "outputs": []
    },
    {
      "cell_type": "markdown",
      "source": [
        "Prueba de recorridos\n",
        "\n"
      ],
      "metadata": {
        "id": "i7-vM1feXWYz"
      }
    },
    {
      "cell_type": "code",
      "source": [
        "print(\"Recorrido Inorden:\")\n",
        "inorden(raiz)\n",
        "print(\"\\nRecorrido Preorden:\")\n",
        "preorden(raiz)\n",
        "print(\"\\nRecorrido Postorden:\")\n",
        "postorden(raiz)"
      ],
      "metadata": {
        "id": "16A5KdBWXbO_"
      },
      "execution_count": null,
      "outputs": []
    },
    {
      "cell_type": "markdown",
      "source": [
        "Recorrido Inorden:\n",
        "D B E A C F\n",
        "Recorrido Preorden:\n",
        "A B D E C F\n",
        "Recorrido Postorden:\n",
        "D E B F C A"
      ],
      "metadata": {
        "id": "lIbnn8tqXeG5"
      }
    }
  ]
}